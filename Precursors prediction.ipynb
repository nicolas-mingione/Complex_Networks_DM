{
 "cells": [
  {
   "cell_type": "markdown",
   "metadata": {},
   "source": [
    "# Prediction of precursors\n",
    "\n",
    "We want to use the information extracted from synthesis papers to infer the precursors we could use for a specific target. The way we approach the problem may lead to different biases as we can implicitly assume some hypothesis. In particular, we are interested in the tag \"all_common\" of our database i.e. whether a target has been synthesized using only common precursors or not. We need to be careful about one point : it is not because one paper used a non common precursor than the material cannot be made using a common one. In other terms, a non-realization in our data does not mean the impossiblity to do the reaction. However, we can assume that an experimentalist will synthesize a material in a way that will be easiest for them. For example, the precursors can be already available in the lab or using a specific chemical group will lead to fewer synthesis steps. In this notebook, considering a target and a specific set of precursors, we try to predict how easy the corresponding recipe will be.\n",
    "\n",
    "To generate the data, we consider all the recipes in our database to be easiest. In the case where non common precursors were used, we artificially generate negative reactions with the most common precursors for each metal brought in the target as we consider that these reactions could be less easy than the original ones. Building that way, we can go back to the original problem which was the prediction of the \"all_common\" tag by only considering the reactions in the data with only common precursors."
   ]
  },
  {
   "cell_type": "code",
   "execution_count": 1,
   "metadata": {},
   "outputs": [
    {
     "data": {
      "text/html": [
       "<script>\n",
       "code_show=true; \n",
       "function code_toggle() {\n",
       " if (code_show){\n",
       " $('div.input').hide();\n",
       " } else {\n",
       " $('div.input').show();\n",
       " }\n",
       " code_show = !code_show\n",
       "} \n",
       "$( document ).ready(code_toggle);\n",
       "</script>\n",
       "<form action=\"javascript:code_toggle()\"><input type=\"submit\" value=\"Click here to toggle on/off the raw code.\"></form>"
      ],
      "text/plain": [
       "<IPython.core.display.HTML object>"
      ]
     },
     "execution_count": 1,
     "metadata": {},
     "output_type": "execute_result"
    }
   ],
   "source": [
    "from IPython.display import HTML\n",
    "\n",
    "HTML('''<script>\n",
    "code_show=true; \n",
    "function code_toggle() {\n",
    " if (code_show){\n",
    " $('div.input').hide();\n",
    " } else {\n",
    " $('div.input').show();\n",
    " }\n",
    " code_show = !code_show\n",
    "} \n",
    "$( document ).ready(code_toggle);\n",
    "</script>\n",
    "<form action=\"javascript:code_toggle()\"><input type=\"submit\" value=\"Click here to toggle on/off the raw code.\"></form>''')"
   ]
  },
  {
   "cell_type": "code",
   "execution_count": 1,
   "metadata": {},
   "outputs": [
    {
     "data": {
      "text/html": [
       "<style>.container { width:90% !important; }</style>"
      ],
      "text/plain": [
       "<IPython.core.display.HTML object>"
      ]
     },
     "metadata": {},
     "output_type": "display_data"
    }
   ],
   "source": [
    "from IPython.core.display import display, HTML\n",
    "display(HTML(\"<style>.container { width:90% !important; }</style>\"))"
   ]
  },
  {
   "cell_type": "code",
   "execution_count": 2,
   "metadata": {},
   "outputs": [
    {
     "name": "stderr",
     "output_type": "stream",
     "text": [
      "/usr/local/lib/python3.6/site-packages/h5py/__init__.py:36: FutureWarning:\n",
      "\n",
      "Conversion of the second argument of issubdtype from `float` to `np.floating` is deprecated. In future, it will be treated as `np.float64 == np.dtype(float).type`.\n",
      "\n",
      "Using TensorFlow backend.\n"
     ]
    }
   ],
   "source": [
    "# Libraries\n",
    "import json\n",
    "import numpy as np\n",
    "from chemical_groups import *\n",
    "from material_parser import MaterialParser\n",
    "import plotly.plotly as py\n",
    "from plotly.offline import iplot\n",
    "import plotly.graph_objs as go\n",
    "from tool.preprocess_formulas import PreprocessMaterials\n",
    "from tool.encode_materials import EncoderTool\n",
    "from itertools import permutations, product\n",
    "from pprint import pprint\n",
    "from imblearn.over_sampling import SMOTE \n",
    "from sklearn.externals import joblib"
   ]
  },
  {
   "cell_type": "code",
   "execution_count": 3,
   "metadata": {},
   "outputs": [],
   "source": [
    "# Global variables\n",
    "with open('elements.txt', 'r') as f:\n",
    "    elements = json.load(f)\n",
    "\n",
    "elts2indx = {}\n",
    "indx2elts = {}\n",
    "for i, el in enumerate(elements):\n",
    "    elts2indx[el] = i\n",
    "    indx2elts[i] = el\n",
    "\n",
    "classes = {'simple_oxide': 0, 'complex_oxide': 1, 'carbonate': 2, 'nitrate': 3, 'sulfate': 4, 'hydroxide': 5,\n",
    "           'halide': 6, 'other': 7, 'none': 8}\n",
    "inv_classes = {v: k for k, v in classes.items()}"
   ]
  },
  {
   "cell_type": "code",
   "execution_count": 4,
   "metadata": {},
   "outputs": [],
   "source": [
    "# Some functions\n",
    "with open('most_common_precursor.json', 'r') as f:\n",
    "    most_common = json.load(f)"
   ]
  },
  {
   "cell_type": "code",
   "execution_count": 5,
   "metadata": {},
   "outputs": [],
   "source": [
    "def main_element(m):\n",
    "    '''Return the \"main\" element of a precursor i.e. element with highest molecular rank except 0, H, C, N'''\n",
    "    parser = MaterialParser()\n",
    "    elts = parser.get_chemical_structure(m)['composition'].keys()\n",
    "    max_el, max_Z = '', 0\n",
    "    for el in elts:\n",
    "        if elts2indx[el] > max_Z and el not in ['H', 'C', 'N', 'O']:\n",
    "            max_el = el\n",
    "            max_Z = elts2indx[el]\n",
    "    return max_el\n",
    "\n",
    "def is_uncommon(groups, main_elts):\n",
    "    results = [0] * len(main_elts)\n",
    "    for i in range(len(main_elts)):\n",
    "        try:\n",
    "            if classes[most_common[main_elts[i]]] != groups[i]:\n",
    "                results[i] = 1\n",
    "        except:\n",
    "            pass\n",
    "    return results\n",
    "\n",
    "def most_common_classes(target):\n",
    "    parser = MaterialParser()\n",
    "    composition = parser.get_chemical_structure(target)['composition']\n",
    "    main_elements = [element for element in composition.keys() if element not in ['H', 'C', 'N', 'O']]\n",
    "    main_elements = [element for element in reversed(sorted(main_elements))]\n",
    "    return [classes[most_common[el]] for el in main_elements]\n",
    "\n",
    "def return_main_elements(target):\n",
    "    parser = MaterialParser()\n",
    "    composition = parser.get_chemical_structure(target)['composition']\n",
    "    main_elements = [element for element in composition.keys() if element not in ['H', 'C', 'N', 'O']]\n",
    "    main_elements = [element for element in reversed(sorted(main_elements))]\n",
    "    return main_elements\n",
    "\n",
    "def comp_to_key(comp):\n",
    "    elements = sorted([k for k in comp.keys()])\n",
    "    return ''.join([el + str(comp[el]) for el in elements])"
   ]
  },
  {
   "cell_type": "markdown",
   "metadata": {},
   "source": [
    "## A look at the recipes: distribution of most common precursors and chemical groups in the recipes\n",
    "**Nota bene:** In the following figures, only one recipe is considered per DOI - 5 precursors max. per recipe - each element in the target is brought by one and only one precursor.\n",
    "**7811** recipes are considered."
   ]
  },
  {
   "cell_type": "code",
   "execution_count": 6,
   "metadata": {},
   "outputs": [],
   "source": [
    "# Some data\n",
    "with open('distribution_precursors.json', 'r') as f:\n",
    "    data = json.load(f)\n",
    "    \n",
    "distribution_precursors = data[0]\n",
    "most_common_element = data[1]"
   ]
  },
  {
   "cell_type": "code",
   "execution_count": 7,
   "metadata": {},
   "outputs": [
    {
     "data": {
      "application/vnd.jupyter.widget-view+json": {
       "model_id": "adb579cc3702469db75c5b4457e12423",
       "version_major": 2,
       "version_minor": 0
      },
      "text/plain": [
       "FigureWidget({\n",
       "    'data': [{'text': array(['174', '1', '27', '27', '68', '5', '1', '20', '3', '1', '2', '87',…"
      ]
     },
     "metadata": {},
     "output_type": "display_data"
    }
   ],
   "source": [
    "ratio_common = {}\n",
    "for el in most_common_element:\n",
    "    ratio_common[el] = most_common_element[el][0] / most_common_element[el][1]\n",
    "    \n",
    "elements_plot = [e for e in ratio_common.keys()]\n",
    "ratio_plot = [ratio_common[e] for e in elements_plot]\n",
    "labels = [most_common_element[e][1] for e in elements_plot]\n",
    "sort_indices_by_ratio = np.argsort(-np.array(ratio_plot))\n",
    "ratio_plot = np.array(ratio_plot)[sort_indices_by_ratio]\n",
    "elements_plot = np.array(elements_plot)[sort_indices_by_ratio]\n",
    "labels = np.array(labels)[sort_indices_by_ratio]\n",
    "data = [go.Bar(x=elements_plot, y=ratio_plot, text=labels)]\n",
    "fig = go.FigureWidget(data)\n",
    "fig.layout.xaxis = dict(title='\"Main\" element brought by the precusor\"')\n",
    "fig.layout.yaxis = dict(title='(# most common precursors / # precursors)')\n",
    "fig.layout.title = 'Distribution of the ratio (# most common precursors / # precursors) for all elements'\n",
    "fig"
   ]
  },
  {
   "cell_type": "markdown",
   "metadata": {},
   "source": [
    "We represent the distribution of the following chemical groups among the precursors used in our Recipes database: simple oxide, complex oxide, carbonate, sulfate, nitrate, hydroxide, halide and others."
   ]
  },
  {
   "cell_type": "code",
   "execution_count": 8,
   "metadata": {},
   "outputs": [
    {
     "data": {
      "application/vnd.jupyter.widget-view+json": {
       "model_id": "50bcf5b1c94446febbe324f615c10c70",
       "version_major": 2,
       "version_minor": 0
      },
      "text/plain": [
       "FigureWidget({\n",
       "    'data': [{'name': 'simple oxide',\n",
       "              'type': 'bar',\n",
       "              'uid': '5c6f61…"
      ]
     },
     "metadata": {},
     "output_type": "display_data"
    }
   ],
   "source": [
    "classes_plot = [c for c in distribution_precursors['Cu'].keys()]\n",
    "elements_plot = [e for e in ratio_common.keys()]\n",
    "nb_recipes = [np.sum([distribution_precursors[el][c] for c in classes_plot]) for el in elements_plot]\n",
    "sort_indices_by_ratio = np.argsort(-np.array(nb_recipes))\n",
    "elements_plot = np.array(elements_plot)[sort_indices_by_ratio]\n",
    "traces = []\n",
    "for c in classes_plot:\n",
    "    y_c = []\n",
    "    for el in elements_plot:\n",
    "        y_c.append(distribution_precursors[el][c])\n",
    "    traces.append(go.Bar(x=elements_plot, y=y_c, name=c.replace('_', ' ')))\n",
    "fig = go.FigureWidget(data=traces)\n",
    "fig.layout.barmode = 'stack'\n",
    "fig.layout.xaxis = dict(title='\"Main\" element brought by the precusor\"')\n",
    "fig.layout.yaxis = dict(title='Nb of occurences')\n",
    "fig.layout.title = 'Distribution of the main chemical groups among each precursor'\n",
    "fig.layout.height = 700\n",
    "fig"
   ]
  },
  {
   "cell_type": "code",
   "execution_count": 10,
   "metadata": {},
   "outputs": [
    {
     "name": "stdout",
     "output_type": "stream",
     "text": [
      "Maximum ratio of halide precursors among all the elements: 3.0\n"
     ]
    }
   ],
   "source": [
    "max_ratio_halide = 0\n",
    "for el in elements_plot:\n",
    "    a = distribution_precursors[el]['halide'] / most_common_element[el][1]\n",
    "    if a > max_ratio_halide:\n",
    "        max_ratio_halide = a\n",
    "print('Maximum ratio of halide precursors among all the elements:', max_ratio_halide)"
   ]
  },
  {
   "cell_type": "markdown",
   "metadata": {},
   "source": [
    "It also does not seem to be relevant to consider halides as a separate group as they never represent more than $3\\%$ of the precursors for every element."
   ]
  },
  {
   "cell_type": "markdown",
   "metadata": {},
   "source": [
    "## Closer look at the precursors\n",
    "We decide to use the embedding obtained by the VAE to represent the precursors and this representation contains information about the composition and the chemical group of the materials.\n",
    "### Impact of the chemical group on the precursors representation"
   ]
  },
  {
   "cell_type": "code",
   "execution_count": 5,
   "metadata": {},
   "outputs": [],
   "source": [
    "# Load recipes\n",
    "with open('recipes_db_2407.json', 'r') as f:\n",
    "    recipes = json.load(f)"
   ]
  },
  {
   "cell_type": "code",
   "execution_count": 12,
   "metadata": {
    "scrolled": true
   },
   "outputs": [],
   "source": [
    "# precursors_per_element = {}\n",
    "# all_precursors = []\n",
    "# all_precursors_string = []\n",
    "# for recipe in recipes:\n",
    "#     precursors = [comp_to_key(p) for p in recipe['precursors']]\n",
    "#     precursors_main_elements = [return_main_elements(p) for p in precursors]\n",
    "#     for i, p in enumerate(precursors):\n",
    "#         try:\n",
    "#             el = precursors_main_elements[i][0]\n",
    "#             if el not in precursors_per_element:\n",
    "#                 precursors_per_element[el] = [p]\n",
    "#                 all_precursors.append(p)\n",
    "#                 all_precursors_string.append(recipe['precursors_string'][i])\n",
    "#             else:\n",
    "#                 if p not in precursors_per_element[el]:\n",
    "#                     precursors_per_element[el] = precursors_per_element[el] + [p]\n",
    "#                     all_precursors.append(p)\n",
    "#                     all_precursors_string.append(recipe['precursors_string'][i])\n",
    "#         except:\n",
    "#             print('Problem with precursors:', precursors)"
   ]
  },
  {
   "cell_type": "code",
   "execution_count": 13,
   "metadata": {},
   "outputs": [],
   "source": [
    "# with open('notebook_precursors_data.json', 'w') as f:\n",
    "#     json.dump([precursors_per_element, all_precursors, all_precursors_string], f)"
   ]
  },
  {
   "cell_type": "code",
   "execution_count": 9,
   "metadata": {},
   "outputs": [],
   "source": [
    "with open('notebook_precursors_data.json', 'r') as f:\n",
    "    data = json.load(f)\n",
    "    \n",
    "precursors_per_element, all_precursors, all_precursors_string = data[0], data[1], data[2]"
   ]
  },
  {
   "cell_type": "code",
   "execution_count": 15,
   "metadata": {},
   "outputs": [
    {
     "name": "stdout",
     "output_type": "stream",
     "text": [
      "1049 different precursors in considered recipes.\n"
     ]
    }
   ],
   "source": [
    "print(len(all_precursors_string), 'different precursors in considered recipes.')"
   ]
  },
  {
   "cell_type": "code",
   "execution_count": 10,
   "metadata": {},
   "outputs": [
    {
     "name": "stderr",
     "output_type": "stream",
     "text": [
      "/Users/nmingione/Documents/VAE/tool/preprocess_formulas.py:39: RuntimeWarning:\n",
      "\n",
      "divide by zero encountered in true_divide\n",
      "\n",
      "/Users/nmingione/Documents/VAE/tool/preprocess_formulas.py:39: RuntimeWarning:\n",
      "\n",
      "invalid value encountered in true_divide\n",
      "\n",
      "/Users/nmingione/Documents/VAE/tool/preprocess_formulas.py:46: RuntimeWarning:\n",
      "\n",
      "divide by zero encountered in double_scalars\n",
      "\n"
     ]
    },
    {
     "name": "stdout",
     "output_type": "stream",
     "text": [
      "WARNING:tensorflow:From /usr/local/lib/python3.6/site-packages/tensorflow/python/util/deprecation.py:497: calling conv1d (from tensorflow.python.ops.nn_ops) with data_format=NHWC is deprecated and will be removed in a future version.\n",
      "Instructions for updating:\n",
      "`NHWC` for data_format is deprecated, use `NWC` instead\n"
     ]
    },
    {
     "name": "stderr",
     "output_type": "stream",
     "text": [
      "WARNING:tensorflow:From /usr/local/lib/python3.6/site-packages/tensorflow/python/util/deprecation.py:497: calling conv1d (from tensorflow.python.ops.nn_ops) with data_format=NHWC is deprecated and will be removed in a future version.\n",
      "Instructions for updating:\n",
      "`NHWC` for data_format is deprecated, use `NWC` instead\n"
     ]
    },
    {
     "name": "stdout",
     "output_type": "stream",
     "text": [
      "(1049, 100)\n"
     ]
    }
   ],
   "source": [
    "# Other embedding\n",
    "import tool.encode_materials\n",
    "encoder = EncoderTool(n=3, split=True, reduced=True, energy=True)\n",
    "precursors_embedding = encoder.transform(all_precursors_string)\n",
    "print(precursors_embedding.shape)"
   ]
  },
  {
   "cell_type": "code",
   "execution_count": 11,
   "metadata": {},
   "outputs": [],
   "source": [
    "precursors_embedding = np.nan_to_num(precursors_embedding)"
   ]
  },
  {
   "cell_type": "code",
   "execution_count": 12,
   "metadata": {},
   "outputs": [],
   "source": [
    "from sklearn.manifold import TSNE\n",
    "\n",
    "tsne = TSNE(perplexity=15, n_iter=20000)\n",
    "reduced_embedding = tsne.fit_transform(precursors_embedding)"
   ]
  },
  {
   "cell_type": "code",
   "execution_count": 13,
   "metadata": {},
   "outputs": [],
   "source": [
    "precursors_groups = [return_chemical_group(p, precursor=True) for p in all_precursors_string]\n",
    "precursors_groups = [p if p != 'halide' else 'other' for p in precursors_groups]"
   ]
  },
  {
   "cell_type": "code",
   "execution_count": 14,
   "metadata": {
    "scrolled": false
   },
   "outputs": [
    {
     "data": {
      "application/vnd.jupyter.widget-view+json": {
       "model_id": "c8d6cabb65b8441b817937486eb99551",
       "version_major": 2,
       "version_minor": 0
      },
      "text/plain": [
       "FigureWidget({\n",
       "    'data': [{'marker': {'color': 'blue', 'size': 6},\n",
       "              'mode': 'markers',\n",
       "        …"
      ]
     },
     "metadata": {},
     "output_type": "display_data"
    }
   ],
   "source": [
    "traces = []\n",
    "color_groups = {'simple_oxide': 'blue', 'complex_oxide': 'orange', 'carbonate': 'green', 'nitrate': 'purple', \n",
    "                'sulfate': 'red', 'hydroxide': 'pink', 'other': 'gray'}\n",
    "for group in color_groups:\n",
    "    points = []\n",
    "    labels = []\n",
    "    for i in range(len(all_precursors_string)):\n",
    "        if precursors_groups[i] == group:\n",
    "            points.append(reduced_embedding[i])\n",
    "            labels.append(all_precursors_string[i])\n",
    "    points = np.array(points)\n",
    "    traces.append(go.Scatter(\n",
    "                        x = points[:,0],\n",
    "                        y = points[:,1],\n",
    "                        mode='markers',\n",
    "                        name=group.replace('_',' '),\n",
    "                        marker=dict(\n",
    "                            size=6,\n",
    "                            color=color_groups[group]\n",
    "                        ),\n",
    "                        text=labels\n",
    "                        ))\n",
    "\n",
    "fig = go.FigureWidget(traces)\n",
    "fig.layout.title = '2D representation of precursors - dim=100 embedding'\n",
    "fig.layout.hovermode = 'closest'\n",
    "fig.layout.xaxis= dict(\n",
    "        title= 'Feature 1',\n",
    "        ticklen= 5,\n",
    "        zeroline= False,\n",
    "        gridwidth= 2,\n",
    "    )\n",
    "fig.layout.yaxis=dict(\n",
    "        title= 'Feature 2',\n",
    "        ticklen= 5,\n",
    "        gridwidth= 2,\n",
    "    )\n",
    "fig.layout.showlegend= True\n",
    "fig.layout.width=1000\n",
    "fig.layout.height=1000\n",
    "fig"
   ]
  },
  {
   "cell_type": "markdown",
   "metadata": {},
   "source": [
    "These embeddings of precursors already seem to contain enough information about the chemical group as we can observe some clusters for each chemical groups. This representation also allows us to see the list of all the precursors involved in our recipes database. We can note that there are some errors in some precursors formulas e.g. the cluster $X(NO)_3$ for $X = Lu, Nd, Sr, Co, Ga$ which should likely be instead $X(NO_3)_y$."
   ]
  },
  {
   "cell_type": "markdown",
   "metadata": {},
   "source": [
    "## Build dataset\n",
    "### Filter recipes\n",
    "\n",
    "Let's build our vectors $X$ and $y$. We consider the recipes with the following conditions:\n",
    "* 1 recipe per DOI per chemical system\n",
    "* at most 5 precursors\n",
    "* each metal in the target is brought by one and only one precursor\n",
    "* no phosphorus in target (what is the most common class?)"
   ]
  },
  {
   "cell_type": "code",
   "execution_count": 7,
   "metadata": {},
   "outputs": [
    {
     "data": {
      "text/plain": [
       "dict_keys(['version', 'doi', 'year', 'target_string', 'target', 'precursors_string', 'precursors', 'target_elements', 'precursors_elements', 'all_simple', 'all_common', 'operations', 'aqueous_mix', 'simple_mix', 'one_step', 'firing_step', 'all_common_v2', 'target_embeddings', 'weight', 'energy_vae', 'key', 'target_embeddings_energy', 'transition_metal_ionic_radius_diff_max_avg', 'transition_metal_ionic_radius_minimum', 'transition_metal_ionic_radius_maximum', 'transition_metal_ionic_radius_range', 'transition_metal_oxid_states_mean', 'transition_metal_oxid_states_diff_min_avg', 'depth_hulls_minimum_N-1', 'depth_hulls_mean_N-1', 'depth_hulls_ratio_min_avg_N-1', 'depth_hulls_minimum_N-2', 'depth_hulls_mean_N-2', 'depth_hulls_ratio_min_avg_N-2', 'matminer_embedding'])"
      ]
     },
     "execution_count": 7,
     "metadata": {},
     "output_type": "execute_result"
    }
   ],
   "source": [
    "recipes[0].keys()"
   ]
  },
  {
   "cell_type": "code",
   "execution_count": 8,
   "metadata": {},
   "outputs": [],
   "source": [
    "def bij_precursors_target(target, precursors):\n",
    "    T = return_main_elements(target)\n",
    "    P = [main_element(p) for p in precursors]\n",
    "    return len(T) == len(P) and len(set(T) ^ set(P)) == 0"
   ]
  },
  {
   "cell_type": "code",
   "execution_count": 9,
   "metadata": {},
   "outputs": [
    {
     "name": "stdout",
     "output_type": "stream",
     "text": [
      "Problem with Cl4O8Si3Sr4 - 'A'\n"
     ]
    }
   ],
   "source": [
    "dois = {}\n",
    "recipes_filtered = []\n",
    "for recipe in recipes:\n",
    "    target = comp_to_key(recipe['target'])\n",
    "    precursors = recipe['precursors_string']\n",
    "    try:\n",
    "        if bij_precursors_target(target, precursors): # each metal in the target is brought by one and only one precursor\n",
    "            if len(precursors) <= 5 and 'P' not in target: # max 5 precursors and no P because not present in the list of most common precursors\n",
    "                doi = recipe['doi']\n",
    "                all_common = recipe['all_common_v2']\n",
    "                chemical_system = ''.join(sorted([el for el in recipe['target'].keys()]))\n",
    "                if doi in dois.keys(): # one recipe per DOI per chemical system   \n",
    "                    if chemical_system in dois[doi]:\n",
    "                        continue\n",
    "                    else:\n",
    "                        dois[doi] = dois[doi] + [chemical_system]\n",
    "                else:\n",
    "                    dois[doi] = [chemical_system]\n",
    "                recipes_filtered.append({\n",
    "                    'target': target,\n",
    "                    'precursors': precursors,\n",
    "                    'all_common': all_common,\n",
    "                    'doi': doi\n",
    "                })\n",
    "    except Exception as e:\n",
    "        print('Problem with', target, '-', str(e))"
   ]
  },
  {
   "cell_type": "code",
   "execution_count": 10,
   "metadata": {},
   "outputs": [],
   "source": [
    "with open('notebook_precursors_prediction_recipes_filtered.json', 'w') as f:\n",
    "    json.dump(recipes_filtered, f)"
   ]
  },
  {
   "cell_type": "code",
   "execution_count": 11,
   "metadata": {},
   "outputs": [
    {
     "name": "stdout",
     "output_type": "stream",
     "text": [
      "Initial dataset: 16613 recipes.\n",
      "After filter: 7067 recipes.\n"
     ]
    }
   ],
   "source": [
    "print('Initial dataset:', len(recipes), 'recipes.')\n",
    "print('After filter:', len(recipes_filtered), 'recipes.')"
   ]
  },
  {
   "cell_type": "markdown",
   "metadata": {},
   "source": [
    "### Use embeddings for precursors and targets"
   ]
  },
  {
   "cell_type": "code",
   "execution_count": 12,
   "metadata": {},
   "outputs": [],
   "source": [
    "def normalize_precursors(p):\n",
    "    parser = MaterialParser()\n",
    "    return comp_to_key(parser.get_chemical_structure(p)['composition'])"
   ]
  },
  {
   "cell_type": "code",
   "execution_count": 80,
   "metadata": {
    "scrolled": false
   },
   "outputs": [
    {
     "name": "stdout",
     "output_type": "stream",
     "text": [
      "335 precursors.\n",
      "335 different precursors have been encoded.\n"
     ]
    }
   ],
   "source": [
    "# Build map key <-> embeddings for precursors\n",
    "# encoder = EncoderTool(split=True, old=True, n=3)\n",
    "encoder = EncoderTool(n=3, split=True, reduced=True, energy=True)\n",
    "precursors_filtered = []\n",
    "for recipe in recipes_filtered:\n",
    "    for p in recipe['precursors']:\n",
    "        n_p = normalize_precursors(p)\n",
    "        if n_p not in precursors_filtered:\n",
    "            precursors_filtered.append(n_p)\n",
    "print(len(precursors_filtered), 'precursors.')\n",
    "all_precursors_embedding = encoder.transform(materials=precursors_filtered)\n",
    "precursors_embedding = {}\n",
    "for i, p in enumerate(precursors_filtered):\n",
    "    key = normalize_precursors(p)\n",
    "    precursors_embedding[key] = all_precursors_embedding[i]\n",
    "print(len(precursors_embedding), 'different precursors have been encoded.')"
   ]
  },
  {
   "cell_type": "code",
   "execution_count": 83,
   "metadata": {},
   "outputs": [],
   "source": [
    "for p in precursors_embedding:\n",
    "    try:\n",
    "        precursors_embedding[p] = precursors_embedding[p].tolist()\n",
    "    except:\n",
    "        pass\n",
    "with open('notebook_precursors_prediction_key_precursors_100energy.json', 'w') as f:\n",
    "    json.dump(precursors_embedding, f)"
   ]
  },
  {
   "cell_type": "code",
   "execution_count": 16,
   "metadata": {},
   "outputs": [],
   "source": [
    "def find_corresponding_recipes(target, old_recipes):\n",
    "    for recipe in old_recipes:\n",
    "        if target == comp_to_key(recipe['target']):\n",
    "            return recipe\n",
    "    return None"
   ]
  },
  {
   "cell_type": "code",
   "execution_count": 46,
   "metadata": {},
   "outputs": [
    {
     "data": {
      "text/plain": [
       "dict_keys(['version', 'doi', 'year', 'target_string', 'target', 'precursors_string', 'precursors', 'target_elements', 'precursors_elements', 'all_simple', 'all_common', 'operations', 'aqueous_mix', 'simple_mix', 'one_step', 'firing_step', 'all_common_v2', 'target_embeddings', 'weight', 'energy_vae', 'key', 'target_embeddings_energy', 'transition_metal_ionic_radius_diff_max_avg', 'transition_metal_ionic_radius_minimum', 'transition_metal_ionic_radius_maximum', 'transition_metal_ionic_radius_range', 'transition_metal_oxid_states_mean', 'transition_metal_oxid_states_diff_min_avg', 'depth_hulls_minimum_N-1', 'depth_hulls_mean_N-1', 'depth_hulls_ratio_min_avg_N-1', 'depth_hulls_minimum_N-2', 'depth_hulls_mean_N-2', 'depth_hulls_ratio_min_avg_N-2', 'matminer_embedding'])"
      ]
     },
     "execution_count": 46,
     "metadata": {},
     "output_type": "execute_result"
    }
   ],
   "source": [
    "recipes[0].keys()"
   ]
  },
  {
   "cell_type": "code",
   "execution_count": 128,
   "metadata": {},
   "outputs": [
    {
     "name": "stdout",
     "output_type": "stream",
     "text": [
      "3985 different targets.\n"
     ]
    }
   ],
   "source": [
    "# Build map key <-> embeddings for targets\n",
    "for recipe in recipes_filtered:\n",
    "    t = recipe['target']\n",
    "    old_recipe = find_corresponding_recipes(t, recipes)\n",
    "    if old_recipe is not None:\n",
    "        targets_embeddings[normalize_precursors(t)] = {\n",
    "            'vae': np.mean(np.array(old_recipe['target_embeddings']), axis=0),\n",
    "            'vae_energy': np.mean(np.array(old_recipe['target_embeddings_energy']), axis=0),\n",
    "            'matminer': old_recipe['matminer_embedding'],\n",
    "            'transition_metal_ionic_radius_diff_max_avg': old_recipe['transition_metal_ionic_radius_diff_max_avg'],\n",
    "            'transition_metal_ionic_radius_maximum': old_recipe['transition_metal_ionic_radius_maximum'],\n",
    "            'transition_metal_ionic_radius_minimum': old_recipe['transition_metal_ionic_radius_minimum'],\n",
    "            'transition_metal_ionic_radius_range': old_recipe['transition_metal_ionic_radius_range'],\n",
    "            'transition_metal_oxid_states_mean': old_recipe['transition_metal_oxid_states_mean'],\n",
    "            'transition_metal_oxid_states_diff_min_avg': old_recipe['transition_metal_oxid_states_diff_min_avg'],\n",
    "            'depth_hulls_minimum_N-1': old_recipe['depth_hulls_minimum_N-1'],\n",
    "            'depth_hulls_mean_N-1': old_recipe['depth_hulls_mean_N-1'],\n",
    "            'depth_hulls_ratio_min_avg_N-1': old_recipe['depth_hulls_ratio_min_avg_N-1'],\n",
    "            'depth_hulls_minimum_N-2': old_recipe['depth_hulls_minimum_N-2'],\n",
    "            'depth_hulls_mean_N-2': old_recipe['depth_hulls_mean_N-2'],\n",
    "            'depth_hulls_ratio_min_avg_N-2': old_recipe['depth_hulls_ratio_min_avg_N-2']\n",
    "        }\n",
    "    else:\n",
    "        print('Did not find', t)\n",
    "print(len(targets_embeddings), 'different targets.')"
   ]
  },
  {
   "cell_type": "code",
   "execution_count": null,
   "metadata": {
    "scrolled": true
   },
   "outputs": [],
   "source": [
    "with open('notebook_precursors_prediction_key_targets.json', 'w') as f:\n",
    "    json.dump(targets_embeddings, f)"
   ]
  },
  {
   "cell_type": "markdown",
   "metadata": {},
   "source": [
    "We can use either composition vectors, VAE or matminer embeddings. We need to run some tests and see which one gives the best result. For the moment, we assign matminer embeddings for targets concatenated with features on depth of the hulls and we use a simpler VAE embeddings for precursors. The reason behind this is that the matminer embedding is \"very\" high dimensional (> 300) so attributing these features for the target and all the precursors will give a high dimension $X$. It might make the models more difficult to train and it can impair their generalization capacities. This is why we use the VAE embedding for precursors which has a dimension of $100$. In the concatenation of the representations, we order the precursors by decreasing atomic number of the main metal."
   ]
  },
  {
   "cell_type": "code",
   "execution_count": 19,
   "metadata": {},
   "outputs": [],
   "source": [
    "def clean_matminer_embeddings(M):\n",
    "    M = np.nan_to_num(M)\n",
    "    for i in range(M.shape[0]):\n",
    "            if str(M[i]).isalpha():\n",
    "                M[i] = 0\n",
    "    return M.astype(np.float)"
   ]
  },
  {
   "cell_type": "code",
   "execution_count": 81,
   "metadata": {},
   "outputs": [],
   "source": [
    "encoding_most_common = {}\n",
    "for el in most_common['most_common_precursor_material']:\n",
    "    encoding_most_common[el] = encoder.transform([most_common['most_common_precursor_material'][el]])"
   ]
  },
  {
   "cell_type": "code",
   "execution_count": 82,
   "metadata": {},
   "outputs": [
    {
     "name": "stdout",
     "output_type": "stream",
     "text": [
      "6 precursors have been added.\n"
     ]
    }
   ],
   "source": [
    "N = 0\n",
    "for el in encoding_most_common:\n",
    "    norm_common = normalize_precursors(most_common['most_common_precursor_material'][el])\n",
    "    if norm_common not in precursors_embedding:\n",
    "        precursors_embedding[norm_common] = encoding_most_common[el]\n",
    "        precursors_filtered.append(norm_common)\n",
    "        N += 1\n",
    "print(N, 'precursors have been added.')"
   ]
  },
  {
   "cell_type": "code",
   "execution_count": 93,
   "metadata": {},
   "outputs": [],
   "source": [
    "### When creating negative, need to check if it doesn't already exist (!! several recipes for same target...)\n",
    "### Add list all_common....\n",
    "### no permutation but decreasing Z ordering\n",
    "### and if not, multi categorical"
   ]
  },
  {
   "cell_type": "code",
   "execution_count": 144,
   "metadata": {},
   "outputs": [
    {
     "name": "stdout",
     "output_type": "stream",
     "text": [
      "B1F3Mg3O3 - 'F'\n",
      "Bi1Cl1O1 - 'Cl'\n",
      "Se1Sr1 - 'Se'\n",
      "Ba1O4S1 - 'S'\n",
      "Al1B1Ba1F2O3 - 'F'\n",
      "Ca4F2O7Si2 - 'F'\n",
      "Bi1Cl1O1 - 'Cl'\n",
      "F1Li2Mn3Ni1O7 - 'F'\n",
      "F1Li10O79V29Y1 - 'F'\n",
      "As1K1O9W2 - 'other multicomponent'\n",
      "As1Bi1Cd2O6 - 'other multicomponent'\n",
      "Se1Sr1 - 'Se'\n",
      "F3La55Li33O297Ti100 - 'F'\n",
      "F1Li1O4Si1Sr2 - 'F'\n",
      "Cl1Na3O4W1 - 'Cl'\n",
      "Cl1Mo1Na3O4 - 'Cl'\n",
      "F183La557Li147O2817Ti1000 - 'F'\n",
      "I1Tl1 - 'I'\n",
      "F1Li80O239Ti100 - 'F'\n",
      "B5Cl1O9Sr2 - 'Cl'\n",
      "B1O16Rb5S4 - 'S'\n",
      "Br1Li20Mn40O79 - 'Br'\n",
      "Gd2O2S1 - 'S'\n",
      "Br1Li10Mn20O39 - 'Br'\n",
      "Br1Li20Mn40O79 - 'Br'\n",
      "Al1Br1Li20Mn39O79 - 'Br'\n",
      "Cl1Gd1O1 - 'Cl'\n",
      "Cu2S1 - 'S'\n",
      "O4S1Sr1 - 'S'\n",
      "F3Y1 - 'F'\n",
      "Bi2O5Se1 - 'Se'\n",
      "Cl1Gd1O1 - 'Cl'\n"
     ]
    }
   ],
   "source": [
    "X, y, targets, precursors, real = [], [], [], [], []\n",
    "targets_not_common = []\n",
    "N_permutations = 5\n",
    "for k, recipe in enumerate(recipes_filtered):\n",
    "    target_embed = clean_matminer_embeddings(targets_embeddings[recipe['target']]['matminer'])\n",
    "    main_elements_precursors = [main_element(p) for p in recipe['precursors']]\n",
    "    # order precursors in decreasing number of atomic number\n",
    "    atomic_number = [-elts2indx[el] for el in main_elements_precursors]\n",
    "    reordered_index = np.argsort(atomic_number)\n",
    "    recipe_precursors = [recipe['precursors'][i] for i in reordered_index]\n",
    "    try:\n",
    "        # create X = target (matmimer embedding) + 5 precursors (vae 100_energy embedding)\n",
    "        pred_embed_shape = len(precursors_embedding['Fe1O1'])\n",
    "        precursors_embed = np.concatenate([precursors_embedding[normalize_precursors(p)] for p in recipe_precursors] +\n",
    "                                          (5 - len(recipe_precursors)) * [pred_embed_shape * [0]])\n",
    "        X.append(np.concatenate((target_embed, precursors_embed)))\n",
    "        y.append(1)\n",
    "        targets.append(recipe['target'])\n",
    "        precursors.append([normalize_precursors(p) for p in recipe_precursors])\n",
    "        real.append(1)\n",
    "        # if not most common precursor is used, generate new recipes from most_common_precursors list (but add only after checking the same target has not\n",
    "        # been synthesized with most common precursors in another paper)\n",
    "        most_common_precursors = []\n",
    "        for i, p in enumerate(recipe_precursors):\n",
    "            group = return_chemical_group(p)\n",
    "            element = main_elements_precursors[reordered_index[i]]\n",
    "            most_common_precursors.append(group == equiv_classes[most_common['most_common_precursor_class'][element]])\n",
    "        most_common_recipe = all(most_common_precursors)\n",
    "        if not most_common_recipe:\n",
    "            targets_not_common.append(normalize_precursors(recipe['target']))\n",
    "    except Exception as e:\n",
    "        print(recipe['target'], '-', str(e))"
   ]
  },
  {
   "cell_type": "code",
   "execution_count": 146,
   "metadata": {},
   "outputs": [],
   "source": [
    "np.save('notebook_precursors_prediction_X2.npy', np.array(X))\n",
    "np.save('notebook_precursors_prediction_y2.npy', np.array(y))\n",
    "np.save('notebook_precursors_prediction_targets2.npy', np.array(targets))\n",
    "np.save('notebook_precursors_prediction_precursors2.npy', np.array(precursors))\n",
    "np.save('notebook_precursors_prediction_real2.npy', np.array(real))"
   ]
  },
  {
   "cell_type": "code",
   "execution_count": 145,
   "metadata": {},
   "outputs": [],
   "source": [
    "# X_tmp, y_tmp, targets_tmp, precursors_tmp, real_tmp = [], [], [], [], []\n",
    "for k in range(len(targets_not_common)):\n",
    "    try:\n",
    "        # Generate most common precursors\n",
    "        main_elements_precursors = return_main_elements(targets_not_common[k])\n",
    "        atomic_number = [-elts2indx[el] for el in main_elements_precursors]\n",
    "        reordered_index = np.argsort(atomic_number)\n",
    "        reordered_elements = [main_elements_precursors[i] for i in reordered_index]\n",
    "        common_precursors_recipe = [most_common['most_common_precursor_material'][el] for el in reordered_elements]\n",
    "        # Generate X, y\n",
    "        target_embed = clean_matminer_embeddings(targets_embeddings[targets_not_common[k]]['matminer'])\n",
    "        pred_embed_shape = len(precursors_embedding['Fe1O1'])\n",
    "        precursors_embed = np.concatenate([precursors_embedding[normalize_precursors(p)] for p in common_precursors_recipe] +\n",
    "                                          (5 - len(common_precursors_recipe)) * [pred_embed_shape * [0]])\n",
    "        X.append(np.concatenate((target_embed, precursors_embed)))\n",
    "        y.append(0)\n",
    "        targets.append(targets_not_common[k])\n",
    "        precursors.append(common_precursors_recipe)\n",
    "        real.append(0)\n",
    "    except Exception as e:\n",
    "        print(targets_not_common[k], '-', str(e))"
   ]
  },
  {
   "cell_type": "code",
   "execution_count": null,
   "metadata": {
    "scrolled": true
   },
   "outputs": [],
   "source": [
    "# X, y, targets, precursors = [], [], [], []\n",
    "# N_permutations = 5\n",
    "# for recipe in recipes_filtered:\n",
    "#     target_embed = clean_matminer_embeddings(targets_embeddings[recipe['target']]['matminer'])\n",
    "#     prec_permutations = np.random.permutation([k for k in permutations(range(len(recipe['precursors'])))])[:N_permutations]\n",
    "#     try:\n",
    "#         for indices in prec_permutations:\n",
    "#             pred_embed_shape = len(precursors_embedding['Fe1O1'])\n",
    "#             precursors_embed = np.concatenate([precursors_embedding[normalize_precursors(recipe['precursors'][i])] for i in indices] +\n",
    "#                                               (5 - len(recipe['precursors'])) * [pred_embed_shape * [0]])\n",
    "#             X.append(np.concatenate((target_embed, precursors_embed)))\n",
    "#             y.append(1)\n",
    "#             targets.append(recipe['target'])\n",
    "#             precursors.append([normalize_precursors(p) for p in recipe['precursors']])\n",
    "#         # if not most common precursor is used, generate new recipes from most_common_precursors list\n",
    "#         for i, p in enumerate(recipe['precursors']):\n",
    "#             group = return_chemical_group(p)\n",
    "#             element = main_element(p)\n",
    "#             if group != return_chemical_group(most_common['most_common_precursor_material'][element]):\n",
    "#                 new_precursors = [normalize_precursors(most_common['most_common_precursor_material'][element])] + \\\n",
    "#                                  [normalize_precursors(mat) for mat in recipe['precursors'] if mat != p]\n",
    "#                 prec_permutations = np.random.permutation([k for k in permutations(range(len(new_precursors)))])[:N_permutations]\n",
    "#                 try:\n",
    "#                     for indices in prec_permutations:\n",
    "#                         precursors_embed = np.concatenate([precursors_embedding[new_precursors[i]] for i in indices] +\n",
    "#                                                           (5 - len(new_precursors)) * [pred_embed_shape * [0]])\n",
    "#                         X.append(np.concatenate((target_embed, precursors_embed)))\n",
    "#                         y.append(0)\n",
    "#                         targets.append(recipe['target'])\n",
    "#                         precursors.append(recipe['precursors'])\n",
    "#                 except Exception as e:\n",
    "#                     print(recipe['target'], '-', str(e))\n",
    "#                 break\n",
    "#     except Exception as e:\n",
    "#         print(recipe['target'], '-', str(e))"
   ]
  },
  {
   "cell_type": "code",
   "execution_count": 142,
   "metadata": {},
   "outputs": [],
   "source": [
    "# X = np.load('notebook_precursors_prediction_X.npy')\n",
    "# y = np.load('notebook_precursors_prediction_y.npy')\n",
    "# targets = np.load('notebook_precursors_prediction_targets.npy')\n",
    "# precursors = np.load('notebook_precursors_prediction_precursors.npy')"
   ]
  },
  {
   "cell_type": "code",
   "execution_count": 148,
   "metadata": {},
   "outputs": [
    {
     "data": {
      "text/plain": [
       "(8100, 871)"
      ]
     },
     "execution_count": 148,
     "metadata": {},
     "output_type": "execute_result"
    }
   ],
   "source": [
    "np.array(X).shape"
   ]
  },
  {
   "cell_type": "markdown",
   "metadata": {},
   "source": [
    "The data contains $8100$ observations."
   ]
  },
  {
   "cell_type": "code",
   "execution_count": 149,
   "metadata": {},
   "outputs": [],
   "source": [
    "X = np.array(X)\n",
    "y = np.array(y)\n",
    "targets = np.array(targets)\n",
    "precursors = np.array(precursors)"
   ]
  },
  {
   "cell_type": "markdown",
   "metadata": {},
   "source": [
    "### Divide in train / test set\n",
    "By defining clusters for materials with same chemical system. We do not want targets with identical chemical groups to belong both to the train set and the test set. We might underestimate the accuracy on the test set that way but targets with same chemical groups will likely be synthesized in the same way so we do not want to be biased in the evaluation of the generalization capicity of the model."
   ]
  },
  {
   "cell_type": "code",
   "execution_count": 150,
   "metadata": {},
   "outputs": [],
   "source": [
    "signatures_count = {}\n",
    "signatures = []\n",
    "parser = MaterialParser()\n",
    "for i in range(len(targets)):\n",
    "    c = parser.get_chemical_structure(targets[i])['composition']\n",
    "    sign = ''.join(sorted([k for k in c.keys()]))\n",
    "    signatures.append(sign)\n",
    "    if sign not in signatures_count:\n",
    "        signatures_count[sign] = 1\n",
    "    else:\n",
    "        signatures_count[sign] = signatures_count[sign] + 1"
   ]
  },
  {
   "cell_type": "code",
   "execution_count": 151,
   "metadata": {},
   "outputs": [],
   "source": [
    "def return_comp_vector(m):\n",
    "    parser = MaterialParser()\n",
    "    comp = parser.get_chemical_structure(m)['composition']\n",
    "    vector = np.zeros((len(elements),1))\n",
    "    for el in comp:\n",
    "        vector[elts2indx[el]] = comp[el]\n",
    "    z = np.sum(vector)\n",
    "    if z > 0:\n",
    "        vector /= z\n",
    "    return vector"
   ]
  },
  {
   "cell_type": "code",
   "execution_count": 152,
   "metadata": {},
   "outputs": [],
   "source": [
    "clusters = {}\n",
    "for i in range(len(signatures)):\n",
    "    if signatures[i] not in clusters:\n",
    "        clusters[signatures[i]] = [i]\n",
    "    else:\n",
    "        clusters[signatures[i]] = clusters[signatures[i]] + [i]"
   ]
  },
  {
   "cell_type": "code",
   "execution_count": 153,
   "metadata": {},
   "outputs": [],
   "source": [
    "def separate_two_sets(clusters, ratio, seed=42):\n",
    "    np.random.seed(seed)\n",
    "    N_data = 0\n",
    "    indices_1, indices_2 = [], []\n",
    "    for sign in clusters:\n",
    "        N_data += len(clusters[sign])\n",
    "    chemical_systems = np.random.permutation([k for k in clusters.keys()])\n",
    "    i_system = 0\n",
    "    while len(indices_1) / N_data < ratio:\n",
    "        indices_1 = indices_1 + clusters[chemical_systems[i_system]]\n",
    "        i_system += 1\n",
    "    for i in range(i_system, len(chemical_systems)):\n",
    "        indices_2 = indices_2 + clusters[chemical_systems[i]]\n",
    "        \n",
    "    return (indices_1, indices_2)"
   ]
  },
  {
   "cell_type": "code",
   "execution_count": 154,
   "metadata": {},
   "outputs": [],
   "source": [
    "split = separate_two_sets(clusters, 0.85)\n",
    "train_indices, test_indices = split[0], split[1]\n",
    "np.save('notebook_precursors_prediction_indices.npy', [train_indices, test_indices])"
   ]
  },
  {
   "cell_type": "code",
   "execution_count": 155,
   "metadata": {},
   "outputs": [
    {
     "data": {
      "text/plain": [
       "6940"
      ]
     },
     "execution_count": 155,
     "metadata": {},
     "output_type": "execute_result"
    }
   ],
   "source": [
    "len(train_indices)"
   ]
  },
  {
   "cell_type": "markdown",
   "metadata": {},
   "source": [
    "$6940$ observations in the train set."
   ]
  },
  {
   "cell_type": "code",
   "execution_count": 156,
   "metadata": {},
   "outputs": [],
   "source": [
    "train_indices = np.random.permutation(train_indices)"
   ]
  },
  {
   "cell_type": "code",
   "execution_count": 157,
   "metadata": {},
   "outputs": [],
   "source": [
    "X_train, y_train, targets_train, precursors_train = X[train_indices], y[train_indices], targets[train_indices], precursors[train_indices]"
   ]
  },
  {
   "cell_type": "code",
   "execution_count": 160,
   "metadata": {},
   "outputs": [],
   "source": [
    "X_test, y_test, targets_test, precursors_test = X[test_indices], y[test_indices], targets[test_indices], precursors[test_indices]"
   ]
  },
  {
   "cell_type": "code",
   "execution_count": 163,
   "metadata": {},
   "outputs": [
    {
     "data": {
      "text/plain": [
       "(array([ 237,  260,  751,  774,  903, 1814, 2099, 2171, 2809, 2841, 3518,\n",
       "        4709, 4993, 5008, 5228, 5455, 5489, 6053, 6537, 6710]),\n",
       " array([243, 243, 243, 243, 243, 243, 243, 243, 243, 243, 243, 243, 243,\n",
       "        243, 243, 243, 243, 243, 243, 243]))"
      ]
     },
     "execution_count": 163,
     "metadata": {},
     "output_type": "execute_result"
    }
   ],
   "source": [
    "np.where(X_train == -np.inf) # l'attribut 243 est à corriger, supprimons le pour le moment"
   ]
  },
  {
   "cell_type": "code",
   "execution_count": 164,
   "metadata": {},
   "outputs": [],
   "source": [
    "X_train = np.delete(X_train, 243, axis=1)\n",
    "X_test = np.delete(X_test, 243, axis=1)"
   ]
  },
  {
   "cell_type": "code",
   "execution_count": 165,
   "metadata": {},
   "outputs": [
    {
     "data": {
      "text/plain": [
       "(6940, 870)"
      ]
     },
     "execution_count": 165,
     "metadata": {},
     "output_type": "execute_result"
    }
   ],
   "source": [
    "X_train.shape"
   ]
  },
  {
   "cell_type": "code",
   "execution_count": 168,
   "metadata": {
    "scrolled": true
   },
   "outputs": [
    {
     "data": {
      "text/plain": [
       "(array([], dtype=int64), array([], dtype=int64))"
      ]
     },
     "execution_count": 168,
     "metadata": {},
     "output_type": "execute_result"
    }
   ],
   "source": [
    "np.where(X_train == np.nan)"
   ]
  },
  {
   "cell_type": "code",
   "execution_count": 169,
   "metadata": {},
   "outputs": [],
   "source": [
    "# Use SMOTE method to oversample the minority class\n",
    "sm = SMOTE(random_state=42)\n",
    "X_res, y_res = sm.fit_sample(X_train, y_train)"
   ]
  },
  {
   "cell_type": "markdown",
   "metadata": {},
   "source": [
    "After separating the set in train set and test set while paying attention to the clusters issue, we artificially augment the train set thanks to the SMOTE method so we have a ratio of positive / negative class of 50 / 50."
   ]
  },
  {
   "cell_type": "code",
   "execution_count": 170,
   "metadata": {
    "scrolled": true
   },
   "outputs": [
    {
     "name": "stdout",
     "output_type": "stream",
     "text": [
      "Resampled train set: 12162\n",
      "Former train set: 6940\n",
      "Ratio easy / all recipes: 0.5\n"
     ]
    }
   ],
   "source": [
    "print('Resampled train set:', len(X_res))\n",
    "print('Former train set:', len(X_train))\n",
    "print('Ratio easy / all recipes:', np.sum(y_res) / len(y_res))"
   ]
  },
  {
   "cell_type": "markdown",
   "metadata": {},
   "source": [
    "## Train models"
   ]
  },
  {
   "cell_type": "code",
   "execution_count": 171,
   "metadata": {},
   "outputs": [],
   "source": [
    "import xgboost as xgb\n",
    "import matplotlib.pyplot as plt\n",
    "from sklearn.metrics import roc_curve, confusion_matrix, accuracy_score, roc_curve, roc_auc_score, f1_score, precision_score, recall_score\n",
    "from sklearn.externals import joblib"
   ]
  },
  {
   "cell_type": "code",
   "execution_count": 172,
   "metadata": {},
   "outputs": [
    {
     "data": {
      "text/plain": [
       "XGBClassifier(base_score=0.5, booster='gbtree', colsample_bylevel=1,\n",
       "       colsample_bytree=0.6, early_stopping_rounds=75, eval_metric='auc',\n",
       "       eval_set=[(array([[-3.3397 ,  3.66512, ...,  0.     ,  0.     ],\n",
       "       [-3.3397 ,  3.66512, ...,  0.     ,  0.     ],\n",
       "       ...,\n",
       "       [-1.39715,  2.9906 , ...,  0.     ,  0.     ],\n",
       "       [-1.42299,  2.54426, ...,  0.     ,  0.     ]]), array([1, 1, ..., 0, 0]))],\n",
       "       gamma=0, learning_rate=0.01, max_delta_step=0, max_depth=10,\n",
       "       min_child_weight=1, missing=None, n_estimators=1000, n_jobs=4,\n",
       "       nthread=-1, objective='binary:logistic', random_state=0,\n",
       "       reg_alpha=0.0005, reg_lambda=0, scale_pos_weight=1, seed=None,\n",
       "       silent=False, subsample=1)"
      ]
     },
     "execution_count": 172,
     "metadata": {},
     "output_type": "execute_result"
    }
   ],
   "source": [
    "params = {'reg_lambda': 0, 'reg_alpha': 0.0005, 'max_depth': 10, 'learning_rate': 0.01, 'gamma': 0, 'colsample_bytree': 0.6}\n",
    "\n",
    "model = xgb.XGBClassifier(objective='binary:logistic', n_jobs=4,  n_estimators=1000, eval_set=[(X_test, y_test)],\n",
    "                          eval_metric='auc', early_stopping_rounds=75, nthread=-1, silent=False)\n",
    "\n",
    "model.set_params(**params)"
   ]
  },
  {
   "cell_type": "code",
   "execution_count": 173,
   "metadata": {},
   "outputs": [
    {
     "data": {
      "text/plain": [
       "XGBClassifier(base_score=0.5, booster='gbtree', colsample_bylevel=1,\n",
       "       colsample_bytree=0.6, early_stopping_rounds=75, eval_metric='auc',\n",
       "       eval_set=[(array([[-3.3397 ,  3.66512, ...,  0.     ,  0.     ],\n",
       "       [-3.3397 ,  3.66512, ...,  0.     ,  0.     ],\n",
       "       ...,\n",
       "       [-1.39715,  2.9906 , ...,  0.     ,  0.     ],\n",
       "       [-1.42299,  2.54426, ...,  0.     ,  0.     ]]), array([1, 1, ..., 0, 0]))],\n",
       "       gamma=0, learning_rate=0.01, max_delta_step=0, max_depth=10,\n",
       "       min_child_weight=1, missing=None, n_estimators=1000, n_jobs=4,\n",
       "       nthread=-1, objective='binary:logistic', random_state=0,\n",
       "       reg_alpha=0.0005, reg_lambda=0, scale_pos_weight=1, seed=None,\n",
       "       silent=False, subsample=1)"
      ]
     },
     "execution_count": 173,
     "metadata": {},
     "output_type": "execute_result"
    }
   ],
   "source": [
    "model.fit(X_res, y_res, verbose=2)"
   ]
  },
  {
   "cell_type": "code",
   "execution_count": 174,
   "metadata": {},
   "outputs": [
    {
     "data": {
      "text/plain": [
       "['prec_pred_2.pkl']"
      ]
     },
     "execution_count": 174,
     "metadata": {},
     "output_type": "execute_result"
    }
   ],
   "source": [
    "joblib.dump(model, 'prec_pred_2.pkl')"
   ]
  },
  {
   "cell_type": "markdown",
   "metadata": {},
   "source": [
    "### Brief look at the predictions"
   ]
  },
  {
   "cell_type": "code",
   "execution_count": 15,
   "metadata": {},
   "outputs": [],
   "source": [
    "model = joblib.load('prec_pred_2.pkl')"
   ]
  },
  {
   "cell_type": "code",
   "execution_count": null,
   "metadata": {},
   "outputs": [],
   "source": [
    "y_score = model.predict_proba(X_test)[:,1]"
   ]
  },
  {
   "cell_type": "code",
   "execution_count": null,
   "metadata": {},
   "outputs": [],
   "source": [
    "list(zip(y_score[:10], targets_test[:10], y_test[:10], precursors_test[:10]))"
   ]
  },
  {
   "cell_type": "code",
   "execution_count": 179,
   "metadata": {},
   "outputs": [
    {
     "data": {
      "text/plain": [
       "0.85"
      ]
     },
     "execution_count": 179,
     "metadata": {},
     "output_type": "execute_result"
    }
   ],
   "source": [
    "np.sum(y_test) / len(y_test)"
   ]
  },
  {
   "cell_type": "markdown",
   "metadata": {},
   "source": [
    "The figures here below represent respectively the accuracy of the model, the ROC AUC score and the confusion matrix: 122 true negative predictions, 758 true positive predictions, 228 false negative and 52 false positive predictions."
   ]
  },
  {
   "cell_type": "code",
   "execution_count": 257,
   "metadata": {},
   "outputs": [
    {
     "name": "stdout",
     "output_type": "stream",
     "text": [
      "0.7586206896551724\n",
      "0.8162988738896273\n",
      "[[122  52]\n",
      " [228 758]]\n"
     ]
    }
   ],
   "source": [
    "t = 0.9\n",
    "y_pred = []\n",
    "for outcome in y_score:\n",
    "    if outcome > t:\n",
    "        y_pred.append(1)\n",
    "    else:\n",
    "        y_pred.append(0)\n",
    "print(accuracy_score(y_test, y_pred))\n",
    "print(roc_auc_score(y_test, y_score))\n",
    "print(confusion_matrix(y_test, y_pred))"
   ]
  },
  {
   "cell_type": "markdown",
   "metadata": {},
   "source": [
    "Let's plot the ROC curve to evaluate the performance of the model and the trade-off precision / recall."
   ]
  },
  {
   "cell_type": "code",
   "execution_count": 184,
   "metadata": {
    "scrolled": false
   },
   "outputs": [
    {
     "data": {
      "image/png": "[encoded data removed]",
      "text/plain": [
       "<Figure size 432x288 with 1 Axes>"
      ]
     },
     "metadata": {},
     "output_type": "display_data"
    }
   ],
   "source": [
    "fpr, tpr, threshold = roc_curve(y_test, y_score)\n",
    "plt.clf()\n",
    "plt.plot(fpr, tpr, label='XGBoost model')\n",
    "plt.plot([0.0, 1.0], [0.0, 1.0], 'g--', label='Random choice')\n",
    "plt.title('Classification: common precursors reaction')\n",
    "plt.xlabel('False positive rate')\n",
    "plt.ylabel('True positive rate')\n",
    "plt.legend()\n",
    "plt.show()"
   ]
  },
  {
   "cell_type": "markdown",
   "metadata": {},
   "source": [
    "The farther away the blue curve is from the green dot line, the better the model is comparing to a random choice."
   ]
  },
  {
   "cell_type": "code",
   "execution_count": 258,
   "metadata": {},
   "outputs": [
    {
     "data": {
      "text/plain": [
       "<Figure size 432x288 with 0 Axes>"
      ]
     },
     "metadata": {},
     "output_type": "display_data"
    },
    {
     "data": {
      "image/png": "[encoded data removed]",
      "text/plain": [
       "<Figure size 1440x576 with 1 Axes>"
      ]
     },
     "metadata": {},
     "output_type": "display_data"
    }
   ],
   "source": [
    "n_bins = 500\n",
    "plt.clf()\n",
    "fig = plt.figure(figsize=(20,8))\n",
    "n, bins, patches = plt.hist(y_score, n_bins, density=1, histtype='step', cumulative=True)\n",
    "# plt.plot([0,1],[0.2, 0.2],'--')\n",
    "ax = fig.gca()\n",
    "ax.set_xticks(np.arange(0, 1, 0.05))\n",
    "ax.set_yticks(np.arange(0, 1., 0.2))\n",
    "plt.title('Cumulative distribution of the scores on the test set')\n",
    "plt.xlabel('Score')\n",
    "plt.ylabel('Normalized cumulative population')\n",
    "plt.show()"
   ]
  },
  {
   "cell_type": "markdown",
   "metadata": {},
   "source": [
    "### All common?"
   ]
  },
  {
   "cell_type": "markdown",
   "metadata": {},
   "source": [
    "We can go back to the problem of the prediction of the \"all_common\" tag. To do so, we predict the \"easiness\" score for the targets considering the most common precursors for each metal. Recipes with \"all_common = 1\" should be classified as easy in this model and the opposite should hold for recipes with \"all_common = 0\"."
   ]
  },
  {
   "cell_type": "code",
   "execution_count": 197,
   "metadata": {},
   "outputs": [],
   "source": [
    "equiv_classes = {'simple oxide': 'simple_oxide', 'multicomponent oxide': 'complex_oxide', 'carbonate': 'carbonate', 'hydroxide': 'other', 'chloride': 'other',\n",
    "                'sulfate': 'sulfate', 'nitrate': 'nitrate'}"
   ]
  },
  {
   "cell_type": "code",
   "execution_count": 200,
   "metadata": {},
   "outputs": [],
   "source": [
    "indices_all_common = []\n",
    "for i in range(len(targets_test)):\n",
    "    most_common_precursors = []\n",
    "    for j, p in enumerate(precursors_test[i]):\n",
    "        group = return_chemical_group(p)\n",
    "        element = main_element(p)\n",
    "        try:\n",
    "            most_common_precursors.append(group == equiv_classes[most_common['most_common_precursor_class'][element]])\n",
    "        except:\n",
    "            most_common_precursors.append(False)\n",
    "    if all(most_common_precursors):\n",
    "        indices_all_common.append(i)"
   ]
  },
  {
   "cell_type": "code",
   "execution_count": 205,
   "metadata": {},
   "outputs": [],
   "source": [
    "y_score_ac = model.predict_proba(X_test[indices_all_common])[:,1]"
   ]
  },
  {
   "cell_type": "code",
   "execution_count": 260,
   "metadata": {},
   "outputs": [
    {
     "name": "stdout",
     "output_type": "stream",
     "text": [
      "Nb of test points: 939\n",
      "Ratio all common / total in test set: 0.8679446219382322\n",
      "ROC AUC score: 0.7717939837720167\n",
      "Precision: 0.9451219512195121\n",
      "Recall: 0.7607361963190185\n",
      "F1 score: 0.8429639700883752\n",
      "Confusion matrix: [[ 88  36]\n",
      " [195 620]]\n",
      "Accuracy on 1: 0.7607361963190185\n",
      "Accuracy on 0: 0.7096774193548387\n"
     ]
    }
   ],
   "source": [
    "t = 0.92\n",
    "y_pred_ac = []\n",
    "for outcome in y_score_ac:\n",
    "    if outcome > t:\n",
    "        y_pred_ac.append(1)\n",
    "    else:\n",
    "        y_pred_ac.append(0)\n",
    "        \n",
    "print('Nb of test points:', len(indices_all_common))\n",
    "print('Ratio all common / total in test set:', np.sum(y_test[indices_all_common]) / len(indices_all_common))\n",
    "print('ROC AUC score:', roc_auc_score(y_test[indices_all_common], y_score_ac))\n",
    "# print('Accuracy:', accuracy_score(y_test[indices_all_common], y_pred_ac))\n",
    "print('Precision:', precision_score(y_test[indices_all_common],  y_pred_ac))\n",
    "print('Recall:', recall_score(y_test[indices_all_common],  y_pred_ac))\n",
    "print('F1 score:', f1_score(y_test[indices_all_common],  y_pred_ac))\n",
    "c = confusion_matrix(y_test[indices_all_common],  y_pred_ac)\n",
    "print('Confusion matrix:', c)\n",
    "print('Accuracy on 1:', c[1,1]/(c[1,1]+c[1,0]))\n",
    "print('Accuracy on 0:', c[0,0]/(c[0,1]+c[0,0]))"
   ]
  },
  {
   "cell_type": "markdown",
   "metadata": {},
   "source": [
    "### Prediction precursors by sampling"
   ]
  },
  {
   "cell_type": "markdown",
   "metadata": {},
   "source": [
    "Can we sample through all the precursors combinations and rank, for a specific target, the recipes by their easiness? The top rank recipes indicate the precursors that we *should* use for synthesizing the material."
   ]
  },
  {
   "cell_type": "code",
   "execution_count": 212,
   "metadata": {},
   "outputs": [],
   "source": [
    "sample_precursors = {}\n",
    "for p in precursors_embedding.keys():\n",
    "    el = main_element(p)\n",
    "    if el in sample_precursors:\n",
    "        sample_precursors[el] = sample_precursors[el] + [p]\n",
    "    else:\n",
    "        sample_precursors[el] = [p]"
   ]
  },
  {
   "cell_type": "code",
   "execution_count": 268,
   "metadata": {
    "scrolled": false
   },
   "outputs": [
    {
     "name": "stdout",
     "output_type": "stream",
     "text": [
      "Target: Al2O4Zn1\n",
      "List of possible precursors per element: [['O1Zn1', 'H2N26O79Zn1', 'Cl2Zn1', 'C4H6O4Zn1', 'N2O6Zn1', 'C1O3Zn1'], ['Al2O3', 'Al1H3O3', 'Al1N1', 'Al1H1O2', 'Al1N3O9', 'Al4C3', 'Al1H2N3.9O12.7', 'Al1H32.949O31.949', 'Al3H3O3', 'Al1H2N39O118']]\n",
      "60 combinations of precursors.\n",
      "Original precursors: ['ZnO', 'Al2O3'] with predicted score: 0.8213888\n",
      "['H2N26O79Zn1' 'Al1H2N39O118'] 0.9993734\n",
      "['N2O6Zn1' 'Al1H2N39O118'] 0.99931514\n",
      "['H2N26O79Zn1' 'Al1N3O9'] 0.99920696\n",
      "['C1O3Zn1' 'Al1H2N39O118'] 0.99917585\n",
      "['H2N26O79Zn1' 'Al1H2N3.9O12.7'] 0.99911064\n",
      "['N2O6Zn1' 'Al1N3O9'] 0.999047\n",
      "['H2N26O79Zn1' 'Al1H32.949O31.949'] 0.99890304\n",
      "['N2O6Zn1' 'Al1H2N3.9O12.7'] 0.9988158\n",
      "['C1O3Zn1' 'Al1N3O9'] 0.9988079\n",
      "['H2N26O79Zn1' 'Al1H1O2'] 0.99872917\n",
      ".\n",
      ".\n",
      ".\n",
      ".\n",
      "['C4H6O4Zn1' 'Al4C3'] 0.97520816\n",
      "['C4H6O4Zn1' 'Al1N1'] 0.96477073\n",
      "['O1Zn1' 'Al3H3O3'] 0.9640803\n",
      "['Cl2Zn1' 'Al4C3'] 0.9569443\n",
      "['Cl2Zn1' 'Al1N1'] 0.94122803\n",
      "['C1O3Zn1' 'Al2O3'] 0.94014055\n",
      "['O1Zn1' 'Al4C3'] 0.93859905\n",
      "['O1Zn1' 'Al1N1'] 0.9260095\n",
      "['C4H6O4Zn1' 'Al2O3'] 0.90777344\n",
      "['Cl2Zn1' 'Al2O3'] 0.8688875\n"
     ]
    }
   ],
   "source": [
    "k = 300\n",
    "target = targets_test[k]\n",
    "elements_target = return_main_elements(target)\n",
    "atomic_number = [-elts2indx[el] for el in elements_target]\n",
    "reordered_index = np.argsort(atomic_number)\n",
    "elements_target = np.array(elements_target)[reordered_index]\n",
    "precursors_per_element = [sample_precursors[el] for el in elements_target if return_chemical_group(sample_precursors[el]) != 'other']\n",
    "print('Target:', targets_test[k])\n",
    "print('List of possible precursors per element:', precursors_per_element)\n",
    "precursors_to_test = list(product(*precursors_per_element))\n",
    "print(len(list(precursors_to_test)), 'combinations of precursors.')\n",
    "X_s = []\n",
    "for test in precursors_to_test:\n",
    "    pred_embed_shape = len(precursors_embedding['Fe1O1'])\n",
    "    precursors_embed = np.concatenate([precursors_embedding[p] for p in test] +\n",
    "                                      (5 - len(test)) * [pred_embed_shape * [0]])\n",
    "    X_s.append(np.concatenate((X_test[k,:371], precursors_embed)))\n",
    "X_s = np.array(X_s)\n",
    "X_s = np.delete(X_s, 243, axis=1)\n",
    "\n",
    "scores_reactions = np.array(model.predict_proba(X_s)[:,1])\n",
    "indices_rank = (-scores_reactions).argsort()\n",
    "scores_reactions = scores_reactions[indices_rank]\n",
    "precursors_to_test = np.array(precursors_to_test)[indices_rank]\n",
    "X_original = np.concatenate((X_test[k,:371] , np.concatenate([precursors_embedding[normalize_precursors(p)] for p in precursors_test[k]] + \\\n",
    "                                                           (5 - len(precursors_test[k])) * [pred_embed_shape * [0]])))\n",
    "X_original = np.delete(np.array(X_original).reshape((1, -1)), 243, axis=1)\n",
    "print('Original precursors:', precursors_test[k], 'with predicted score:', model.predict_proba(X_original)[0,1])\n",
    "for j in range(10):\n",
    "    print(precursors_to_test[j], scores_reactions[j])\n",
    "print('.\\n.\\n.\\n.')\n",
    "N = len(precursors_to_test)\n",
    "for j in range(10):\n",
    "    print(precursors_to_test[N-11+j], scores_reactions[N-11+j])"
   ]
  },
  {
   "cell_type": "markdown",
   "metadata": {},
   "source": [
    "Meh. We could look at other targets."
   ]
  }
 ],
 "metadata": {
  "kernelspec": {
   "display_name": "Python 3",
   "language": "python",
   "name": "python3"
  },
  "language_info": {
   "codemirror_mode": {
    "name": "ipython",
    "version": 3
   },
   "file_extension": ".py",
   "mimetype": "text/x-python",
   "name": "python",
   "nbconvert_exporter": "python",
   "pygments_lexer": "ipython3",
   "version": "3.6.5"
  },
  "latex_envs": {
   "LaTeX_envs_menu_present": true,
   "autoclose": false,
   "autocomplete": true,
   "bibliofile": "biblio.bib",
   "cite_by": "apalike",
   "current_citInitial": 1,
   "eqLabelWithNumbers": true,
   "eqNumInitial": 1,
   "hotkeys": {
    "equation": "Ctrl-E",
    "itemize": "Ctrl-I"
   },
   "labels_anchors": false,
   "latex_user_defs": false,
   "report_style_numbering": false,
   "user_envs_cfg": false
  }
 },
 "nbformat": 4,
 "nbformat_minor": 2
}
